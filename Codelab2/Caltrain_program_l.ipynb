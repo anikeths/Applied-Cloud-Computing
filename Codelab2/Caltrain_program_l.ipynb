{
 "cells": [
  {
   "cell_type": "code",
   "execution_count": 1,
   "metadata": {
    "id": "6OfLO0B277iq"
   },
   "outputs": [],
   "source": [
    "# Caltrain program\n",
    "\n",
    "\n",
    "Stations_dictionary = dict({\n",
    "            'Zone-1':['San Francisco','22nd Street','Bayshore','South San Francisco','San Bruno'],\n",
    "             'Zone-2':['Millbrae Transit Center','Broadway','Burlingame','San Mateo','Hayward Park','Hillsdale','Belmont','San Carlos','Redwood City'],\n",
    "             'Zone-3':['Menlo Park','Palo Alto','Stanford', 'California Ave.','San Antonio','Mountain View','Sunnyvale'],\n",
    "             'Zone-4':['Lawrence','Santa Clara','College Park','San Jose Diridon','Tamien'],\n",
    "            'Zone-5':['Capitol','Blossom Hill'],\n",
    "            'Zone-6':['Morgan Hill','San Martin','Gilroy']\n",
    "})\n",
    "\n"
   ]
  },
  {
   "cell_type": "code",
   "execution_count": 2,
   "metadata": {
    "colab": {
     "base_uri": "https://localhost:8080/"
    },
    "id": "etvHj4Xc79Ud",
    "outputId": "7c7dd351-4535-4348-ecc7-3269cf758310"
   },
   "outputs": [
    {
     "name": "stdout",
     "output_type": "stream",
     "text": [
      "Enter your entry stationSan Francisco\n",
      "Enter your exit stationSanta Clara\n"
     ]
    }
   ],
   "source": [
    "entry_station = input('Enter your entry station')\n",
    "exit_station = input('Enter your exit station')\n",
    "\n",
    "# for key in Stations_dictionary:\n",
    "  # print(Stations_dictinoary[key])\n",
    "  # if(entry_station in Stations_dictinoary[key] and exit_station in Stations_dictinoary[key]):\n",
    "  #   print('yes')\n"
   ]
  },
  {
   "cell_type": "code",
   "execution_count": null,
   "metadata": {
    "id": "69yDXC5z7_Xp"
   },
   "outputs": [],
   "source": []
  },
  {
   "cell_type": "code",
   "execution_count": 3,
   "metadata": {
    "colab": {
     "base_uri": "https://localhost:8080/"
    },
    "id": "ubmCHkpk7_fy",
    "outputId": "9119adef-1b4c-45d0-efad-f89059d4cfb6"
   },
   "outputs": [
    {
     "name": "stdout",
     "output_type": "stream",
     "text": [
      "['San Francisco', '22nd Street', 'Bayshore', 'South San Francisco', 'San Bruno']\n",
      "['Millbrae Transit Center', 'Broadway', 'Burlingame', 'San Mateo', 'Hayward Park', 'Hillsdale', 'Belmont', 'San Carlos', 'Redwood City']\n",
      "['Menlo Park', 'Palo Alto', 'Stanford', 'California Ave.', 'San Antonio', 'Mountain View', 'Sunnyvale']\n",
      "['Lawrence', 'Santa Clara', 'College Park', 'San Jose Diridon', 'Tamien']\n",
      "['Capitol', 'Blossom Hill']\n",
      "['Morgan Hill', 'San Martin', 'Gilroy']\n"
     ]
    }
   ],
   "source": [
    "for key in Stations_dictionary:\n",
    "  print(Stations_dictionary[key])\n",
    "  if(entry_station==Stations_dictionary[key]):\n",
    "    print('yes')\n",
    "\n",
    "def getKey(dct,value):\n",
    "  return [key for key in dct if (value in dct[key])]\n",
    "  # print(Stations_dictionary.values())"
   ]
  },
  {
   "cell_type": "code",
   "execution_count": 4,
   "metadata": {
    "colab": {
     "base_uri": "https://localhost:8080/"
    },
    "id": "Q_uyGg608BqC",
    "outputId": "c475f0e8-f1a1-4b2c-e49e-92e3612598fd"
   },
   "outputs": [
    {
     "name": "stdout",
     "output_type": "stream",
     "text": [
      "Zone-1 Zone-4\n"
     ]
    }
   ],
   "source": [
    "entry_zone=getKey(Stations_dictionary,entry_station)[0]\n",
    "exit_zone = getKey(Stations_dictionary,exit_station)[0]\n",
    "print(entry_zone,exit_zone)\n"
   ]
  },
  {
   "cell_type": "code",
   "execution_count": 5,
   "metadata": {
    "colab": {
     "base_uri": "https://localhost:8080/"
    },
    "id": "UHTiQKkK8D4p",
    "outputId": "79020145-e0f7-4771-cff8-ac00beb11453"
   },
   "outputs": [
    {
     "name": "stdout",
     "output_type": "stream",
     "text": [
      "3\n",
      "10.5\n"
     ]
    }
   ],
   "source": [
    "price_dictionary = dict({'Zone-1': 1, 'Zone-2':2,'Zone-3':3,'Zone-4':4, 'Zone-5':5,'Zone-6':6})\n",
    "\n",
    "zone_difference = abs(price_dictionary[entry_zone] - price_dictionary[exit_zone])\n",
    " \n",
    "print(zone_difference)\n",
    "\n",
    "ticket_price = 0\n",
    "if zone_difference == 0:\n",
    "  ticket_price = 3.75\n",
    "elif zone_difference == 1:\n",
    "  ticket_price = 6\n",
    "elif zone_difference == 2:\n",
    "  ticket_price = 8.25\n",
    "elif zone_difference == 3:\n",
    "  ticket_price = 10.5\n",
    "elif zone_difference == 4:\n",
    "  ticket_price = 12.75\n",
    "elif zone_difference == 5:\n",
    "  ticket_price = 15\n",
    "\n",
    "print(ticket_price)"
   ]
  },
  {
   "cell_type": "code",
   "execution_count": 7,
   "metadata": {},
   "outputs": [],
   "source": [
    "import pandas as pd\n",
    "\n",
    "df= pd.DataFrame([entry_station,exit_station],[entry_zone,exit_zone])"
   ]
  },
  {
   "cell_type": "code",
   "execution_count": 8,
   "metadata": {},
   "outputs": [
    {
     "data": {
      "text/html": [
       "<div>\n",
       "<style scoped>\n",
       "    .dataframe tbody tr th:only-of-type {\n",
       "        vertical-align: middle;\n",
       "    }\n",
       "\n",
       "    .dataframe tbody tr th {\n",
       "        vertical-align: top;\n",
       "    }\n",
       "\n",
       "    .dataframe thead th {\n",
       "        text-align: right;\n",
       "    }\n",
       "</style>\n",
       "<table border=\"1\" class=\"dataframe\">\n",
       "  <thead>\n",
       "    <tr style=\"text-align: right;\">\n",
       "      <th></th>\n",
       "      <th>0</th>\n",
       "    </tr>\n",
       "  </thead>\n",
       "  <tbody>\n",
       "    <tr>\n",
       "      <th>Zone-1</th>\n",
       "      <td>San Francisco</td>\n",
       "    </tr>\n",
       "    <tr>\n",
       "      <th>Zone-4</th>\n",
       "      <td>Santa Clara</td>\n",
       "    </tr>\n",
       "  </tbody>\n",
       "</table>\n",
       "</div>"
      ],
      "text/plain": [
       "                    0\n",
       "Zone-1  San Francisco\n",
       "Zone-4    Santa Clara"
      ]
     },
     "execution_count": 8,
     "metadata": {},
     "output_type": "execute_result"
    }
   ],
   "source": [
    "df"
   ]
  },
  {
   "cell_type": "code",
   "execution_count": null,
   "metadata": {},
   "outputs": [],
   "source": []
  }
 ],
 "metadata": {
  "colab": {
   "provenance": []
  },
  "kernelspec": {
   "display_name": "Python 3 (ipykernel)",
   "language": "python",
   "name": "python3"
  },
  "language_info": {
   "codemirror_mode": {
    "name": "ipython",
    "version": 3
   },
   "file_extension": ".py",
   "mimetype": "text/x-python",
   "name": "python",
   "nbconvert_exporter": "python",
   "pygments_lexer": "ipython3",
   "version": "3.10.7"
  }
 },
 "nbformat": 4,
 "nbformat_minor": 1
}
